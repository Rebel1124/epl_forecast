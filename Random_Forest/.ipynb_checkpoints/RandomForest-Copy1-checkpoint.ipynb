{
 "cells": [
  {
   "cell_type": "code",
   "execution_count": 1,
   "id": "e93343a9",
   "metadata": {},
   "outputs": [],
   "source": [
    "# Initial imports\n",
    "import pandas as pd\n",
    "import numpy as np\n",
    "from pathlib import Path\n",
    "from sklearn.ensemble import RandomForestClassifier\n",
    "from sklearn.preprocessing import StandardScaler\n",
    "from sklearn.model_selection import train_test_split\n",
    "from sklearn.metrics import confusion_matrix, accuracy_score, classification_report\n",
    "\n",
    "# Needed for decision tree visualization\n",
    "import pydotplus\n",
    "from IPython.display import Image"
   ]
  },
  {
   "cell_type": "code",
   "execution_count": 2,
   "id": "821abf47",
   "metadata": {},
   "outputs": [],
   "source": [
    "# Loading data\n",
    "file_path = Path(\"../Processed_Data/mlAlgo.csv\")\n",
    "df = pd.read_csv(file_path)"
   ]
  },
  {
   "cell_type": "code",
   "execution_count": 3,
   "id": "1ae0ab87",
   "metadata": {},
   "outputs": [],
   "source": [
    "# Separate the data into labels and features\n",
    "\n",
    "# Separate the y variable, the labels\n",
    "y = df[\"Result\"].values.reshape(-1,1)\n",
    "\n",
    "# Separate the X variable, the features\n",
    "X = df.drop(columns=\"Result\")"
   ]
  },
  {
   "cell_type": "code",
   "execution_count": 4,
   "id": "82fbe316",
   "metadata": {},
   "outputs": [],
   "source": [
    "# Splitting into Train and Test sets\n",
    "X_train, X_test, y_train, y_test = train_test_split(X, y, random_state=42)"
   ]
  },
  {
   "cell_type": "code",
   "execution_count": 5,
   "id": "4c70cdbc",
   "metadata": {},
   "outputs": [],
   "source": [
    "# Create the random forest classifier instance\n",
    "rf_model = RandomForestClassifier(n_estimators=500, random_state=42)"
   ]
  },
  {
   "cell_type": "code",
   "execution_count": 6,
   "id": "2e8f47ed",
   "metadata": {},
   "outputs": [
    {
     "name": "stderr",
     "output_type": "stream",
     "text": [
      "C:\\Users\\desig\\AppData\\Local\\Temp\\ipykernel_15220\\4134760295.py:2: DataConversionWarning: A column-vector y was passed when a 1d array was expected. Please change the shape of y to (n_samples,), for example using ravel().\n",
      "  rf_model = rf_model.fit(X_train, y_train)\n"
     ]
    }
   ],
   "source": [
    "# Fit the model\n",
    "rf_model = rf_model.fit(X_train, y_train)"
   ]
  },
  {
   "cell_type": "code",
   "execution_count": 7,
   "id": "caed6f90",
   "metadata": {},
   "outputs": [],
   "source": [
    "# Making predictions using the testing data\n",
    "predictions = rf_model.predict(X_test)"
   ]
  },
  {
   "cell_type": "code",
   "execution_count": 8,
   "id": "6485762e",
   "metadata": {},
   "outputs": [],
   "source": [
    "# Calculating the confusion matrix\n",
    "cm = confusion_matrix(y_test, predictions)\n",
    "cm_df = pd.DataFrame(cm,\n",
    "                    index=['Draw 0', 'homeWin 1', 'awayWin 2'],\n",
    "                    columns=['pred_Draw 0', 'pred_homeWin 1', 'pred_awayWin 2'])\n",
    "\n",
    "# Calculating the accuracy score\n",
    "acc_score = accuracy_score(y_test, predictions)"
   ]
  },
  {
   "cell_type": "code",
   "execution_count": 9,
   "id": "61e7c9a7",
   "metadata": {},
   "outputs": [
    {
     "name": "stdout",
     "output_type": "stream",
     "text": [
      "Confusion Matrix\n"
     ]
    },
    {
     "data": {
      "text/html": [
       "<div>\n",
       "<style scoped>\n",
       "    .dataframe tbody tr th:only-of-type {\n",
       "        vertical-align: middle;\n",
       "    }\n",
       "\n",
       "    .dataframe tbody tr th {\n",
       "        vertical-align: top;\n",
       "    }\n",
       "\n",
       "    .dataframe thead th {\n",
       "        text-align: right;\n",
       "    }\n",
       "</style>\n",
       "<table border=\"1\" class=\"dataframe\">\n",
       "  <thead>\n",
       "    <tr style=\"text-align: right;\">\n",
       "      <th></th>\n",
       "      <th>pred_Draw 0</th>\n",
       "      <th>pred_homeWin 1</th>\n",
       "      <th>pred_awayWin 2</th>\n",
       "    </tr>\n",
       "  </thead>\n",
       "  <tbody>\n",
       "    <tr>\n",
       "      <th>Draw 0</th>\n",
       "      <td>36</td>\n",
       "      <td>238</td>\n",
       "      <td>120</td>\n",
       "    </tr>\n",
       "    <tr>\n",
       "      <th>homeWin 1</th>\n",
       "      <td>48</td>\n",
       "      <td>558</td>\n",
       "      <td>112</td>\n",
       "    </tr>\n",
       "    <tr>\n",
       "      <th>awayWin 2</th>\n",
       "      <td>37</td>\n",
       "      <td>201</td>\n",
       "      <td>230</td>\n",
       "    </tr>\n",
       "  </tbody>\n",
       "</table>\n",
       "</div>"
      ],
      "text/plain": [
       "           pred_Draw 0  pred_homeWin 1  pred_awayWin 2\n",
       "Draw 0              36             238             120\n",
       "homeWin 1           48             558             112\n",
       "awayWin 2           37             201             230"
      ]
     },
     "metadata": {},
     "output_type": "display_data"
    },
    {
     "name": "stdout",
     "output_type": "stream",
     "text": [
      "Accuracy Score : 0.5215189873417722\n",
      "Classification Report\n",
      "              precision    recall  f1-score   support\n",
      "\n",
      "           0       0.30      0.09      0.14       394\n",
      "           1       0.56      0.78      0.65       718\n",
      "           2       0.50      0.49      0.49       468\n",
      "\n",
      "    accuracy                           0.52      1580\n",
      "   macro avg       0.45      0.45      0.43      1580\n",
      "weighted avg       0.48      0.52      0.48      1580\n",
      "\n"
     ]
    }
   ],
   "source": [
    "# Displaying results\n",
    "print(\"Confusion Matrix\")\n",
    "display(cm_df)\n",
    "print(f\"Accuracy Score : {acc_score}\")\n",
    "print(\"Classification Report\")\n",
    "print(classification_report(y_test, predictions))"
   ]
  },
  {
   "cell_type": "code",
   "execution_count": 10,
   "id": "3863d734",
   "metadata": {},
   "outputs": [],
   "source": [
    "# Get the feature importance array\n",
    "importances = rf_model.feature_importances_"
   ]
  },
  {
   "cell_type": "code",
   "execution_count": 11,
   "id": "aeacbd60",
   "metadata": {},
   "outputs": [
    {
     "data": {
      "text/plain": [
       "[(0.07929494137688677, 'mktProb_homeWin'),\n",
       " (0.07881896569022491, 'eloProb_awayWin'),\n",
       " (0.07759918894790406, 'eloProb_homeWin'),\n",
       " (0.07674469892750518, 'shotDiffPowerHome'),\n",
       " (0.07673750987511117, 'shotDiffPowerAway'),\n",
       " (0.07654405284977, 'mktProb_awayWin'),\n",
       " (0.07160586265058218, 'AttackPowerHome'),\n",
       " (0.07141881457951993, 'DefensePowerAway'),\n",
       " (0.07090087588351085, 'AttackPowerAway'),\n",
       " (0.06943157736113634, 'DefensePowerHome'),\n",
       " (0.0629937262061713, 'goalDiffPowerAway'),\n",
       " (0.06045326077278815, 'goalDiffPowerHome'),\n",
       " (0.04284528379426999, 'formPowerHome'),\n",
       " (0.04260356565179651, 'formPowerAway'),\n",
       " (0.042007675432822564, 'mktProb_Draw')]"
      ]
     },
     "execution_count": 11,
     "metadata": {},
     "output_type": "execute_result"
    }
   ],
   "source": [
    "# List the most important features\n",
    "importances_sorted = sorted(zip(rf_model.feature_importances_, X.columns), reverse=True)\n",
    "importances_sorted[:]"
   ]
  },
  {
   "cell_type": "code",
   "execution_count": null,
   "id": "f9959e71",
   "metadata": {},
   "outputs": [],
   "source": []
  }
 ],
 "metadata": {
  "kernelspec": {
   "display_name": "Python 3 (ipykernel)",
   "language": "python",
   "name": "python3"
  },
  "language_info": {
   "codemirror_mode": {
    "name": "ipython",
    "version": 3
   },
   "file_extension": ".py",
   "mimetype": "text/x-python",
   "name": "python",
   "nbconvert_exporter": "python",
   "pygments_lexer": "ipython3",
   "version": "3.9.7"
  }
 },
 "nbformat": 4,
 "nbformat_minor": 5
}
